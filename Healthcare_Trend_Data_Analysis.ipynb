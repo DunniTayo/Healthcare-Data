{
  "nbformat": 4,
  "nbformat_minor": 0,
  "metadata": {
    "colab": {
      "provenance": []
    },
    "kernelspec": {
      "name": "python3",
      "display_name": "Python 3"
    },
    "language_info": {
      "name": "python"
    }
  },
  "cells": [
    {
      "cell_type": "markdown",
      "source": [
        "### **Healthcare Trend Data Analysis**"
      ],
      "metadata": {
        "id": "EgS0J6wx3UyW"
      }
    },
    {
      "cell_type": "code",
      "execution_count": 1,
      "metadata": {
        "id": "KArfPCXb2_nb"
      },
      "outputs": [],
      "source": [
        "import pandas as pd\n",
        "import numpy as np\n",
        "import matplotlib.pyplot as plt\n",
        "import seaborn as sns\n",
        "import plotly.express as px\n",
        "import plotly.graph_objects as go\n",
        "\n",
        "import warnings\n",
        "warnings.filterwarnings('ignore')"
      ]
    },
    {
      "cell_type": "code",
      "source": [
        "#Reading the dataset\n",
        "Healthcare = pd.read_csv('/content/healthcare_dataset.csv')"
      ],
      "metadata": {
        "id": "FpR0qm-g3niN"
      },
      "execution_count": 2,
      "outputs": []
    },
    {
      "cell_type": "code",
      "source": [
        "print(Healthcare.head())"
      ],
      "metadata": {
        "colab": {
          "base_uri": "https://localhost:8080/"
        },
        "id": "ml2GFQhuJVBT",
        "outputId": "f0d5f3b2-858d-4063-9f95-0d4ac656a733"
      },
      "execution_count": 3,
      "outputs": [
        {
          "output_type": "stream",
          "name": "stdout",
          "text": [
            "            Name  Age  Gender Blood Type Medical Condition Date of Admission  \\\n",
            "0  Bobby JacksOn   30    Male         B-            Cancer        2024-01-31   \n",
            "1   LesLie TErRy   62    Male         A+           Obesity        2019-08-20   \n",
            "2    DaNnY sMitH   76  Female         A-           Obesity        2022-09-22   \n",
            "3   andrEw waTtS   28  Female         O+          Diabetes        2020-11-18   \n",
            "4  adrIENNE bEll   43  Female        AB+            Cancer        2022-09-19   \n",
            "\n",
            "             Doctor                    Hospital Insurance Provider  \\\n",
            "0     Matthew Smith             Sons and Miller         Blue Cross   \n",
            "1   Samantha Davies                     Kim Inc           Medicare   \n",
            "2  Tiffany Mitchell                    Cook PLC              Aetna   \n",
            "3       Kevin Wells  Hernandez Rogers and Vang,           Medicare   \n",
            "4    Kathleen Hanna                 White-White              Aetna   \n",
            "\n",
            "   Billing Amount  Room Number Admission Type Discharge Date   Medication  \\\n",
            "0    18856.281306          328         Urgent     2024-02-02  Paracetamol   \n",
            "1    33643.327287          265      Emergency     2019-08-26    Ibuprofen   \n",
            "2    27955.096079          205      Emergency     2022-10-07      Aspirin   \n",
            "3    37909.782410          450       Elective     2020-12-18    Ibuprofen   \n",
            "4    14238.317814          458         Urgent     2022-10-09   Penicillin   \n",
            "\n",
            "   Test Results  \n",
            "0        Normal  \n",
            "1  Inconclusive  \n",
            "2        Normal  \n",
            "3      Abnormal  \n",
            "4      Abnormal  \n"
          ]
        }
      ]
    },
    {
      "cell_type": "code",
      "source": [
        "Healthcare.shape"
      ],
      "metadata": {
        "colab": {
          "base_uri": "https://localhost:8080/"
        },
        "id": "82jQ-sdOJjQa",
        "outputId": "9a3cb262-1359-4e77-ec9e-5e3ab1c7c236"
      },
      "execution_count": 4,
      "outputs": [
        {
          "output_type": "execute_result",
          "data": {
            "text/plain": [
              "(55500, 15)"
            ]
          },
          "metadata": {},
          "execution_count": 4
        }
      ]
    },
    {
      "cell_type": "code",
      "source": [
        "Healthcare.info()"
      ],
      "metadata": {
        "colab": {
          "base_uri": "https://localhost:8080/"
        },
        "id": "Z0Ca3fsdJoI9",
        "outputId": "cba81dbc-c5be-4af7-9e79-6d922d5078cc"
      },
      "execution_count": 5,
      "outputs": [
        {
          "output_type": "stream",
          "name": "stdout",
          "text": [
            "<class 'pandas.core.frame.DataFrame'>\n",
            "RangeIndex: 55500 entries, 0 to 55499\n",
            "Data columns (total 15 columns):\n",
            " #   Column              Non-Null Count  Dtype  \n",
            "---  ------              --------------  -----  \n",
            " 0   Name                55500 non-null  object \n",
            " 1   Age                 55500 non-null  int64  \n",
            " 2   Gender              55500 non-null  object \n",
            " 3   Blood Type          55500 non-null  object \n",
            " 4   Medical Condition   55500 non-null  object \n",
            " 5   Date of Admission   55500 non-null  object \n",
            " 6   Doctor              55500 non-null  object \n",
            " 7   Hospital            55500 non-null  object \n",
            " 8   Insurance Provider  55500 non-null  object \n",
            " 9   Billing Amount      55500 non-null  float64\n",
            " 10  Room Number         55500 non-null  int64  \n",
            " 11  Admission Type      55500 non-null  object \n",
            " 12  Discharge Date      55500 non-null  object \n",
            " 13  Medication          55500 non-null  object \n",
            " 14  Test Results        55500 non-null  object \n",
            "dtypes: float64(1), int64(2), object(12)\n",
            "memory usage: 6.4+ MB\n"
          ]
        }
      ]
    },
    {
      "cell_type": "code",
      "source": [
        "Healthcare.isnull().sum()"
      ],
      "metadata": {
        "colab": {
          "base_uri": "https://localhost:8080/",
          "height": 554
        },
        "id": "S2Qld48_Jxbd",
        "outputId": "e2cf966e-4576-40c1-da33-914e78a91e20"
      },
      "execution_count": 6,
      "outputs": [
        {
          "output_type": "execute_result",
          "data": {
            "text/plain": [
              "Name                  0\n",
              "Age                   0\n",
              "Gender                0\n",
              "Blood Type            0\n",
              "Medical Condition     0\n",
              "Date of Admission     0\n",
              "Doctor                0\n",
              "Hospital              0\n",
              "Insurance Provider    0\n",
              "Billing Amount        0\n",
              "Room Number           0\n",
              "Admission Type        0\n",
              "Discharge Date        0\n",
              "Medication            0\n",
              "Test Results          0\n",
              "dtype: int64"
            ],
            "text/html": [
              "<div>\n",
              "<style scoped>\n",
              "    .dataframe tbody tr th:only-of-type {\n",
              "        vertical-align: middle;\n",
              "    }\n",
              "\n",
              "    .dataframe tbody tr th {\n",
              "        vertical-align: top;\n",
              "    }\n",
              "\n",
              "    .dataframe thead th {\n",
              "        text-align: right;\n",
              "    }\n",
              "</style>\n",
              "<table border=\"1\" class=\"dataframe\">\n",
              "  <thead>\n",
              "    <tr style=\"text-align: right;\">\n",
              "      <th></th>\n",
              "      <th>0</th>\n",
              "    </tr>\n",
              "  </thead>\n",
              "  <tbody>\n",
              "    <tr>\n",
              "      <th>Name</th>\n",
              "      <td>0</td>\n",
              "    </tr>\n",
              "    <tr>\n",
              "      <th>Age</th>\n",
              "      <td>0</td>\n",
              "    </tr>\n",
              "    <tr>\n",
              "      <th>Gender</th>\n",
              "      <td>0</td>\n",
              "    </tr>\n",
              "    <tr>\n",
              "      <th>Blood Type</th>\n",
              "      <td>0</td>\n",
              "    </tr>\n",
              "    <tr>\n",
              "      <th>Medical Condition</th>\n",
              "      <td>0</td>\n",
              "    </tr>\n",
              "    <tr>\n",
              "      <th>Date of Admission</th>\n",
              "      <td>0</td>\n",
              "    </tr>\n",
              "    <tr>\n",
              "      <th>Doctor</th>\n",
              "      <td>0</td>\n",
              "    </tr>\n",
              "    <tr>\n",
              "      <th>Hospital</th>\n",
              "      <td>0</td>\n",
              "    </tr>\n",
              "    <tr>\n",
              "      <th>Insurance Provider</th>\n",
              "      <td>0</td>\n",
              "    </tr>\n",
              "    <tr>\n",
              "      <th>Billing Amount</th>\n",
              "      <td>0</td>\n",
              "    </tr>\n",
              "    <tr>\n",
              "      <th>Room Number</th>\n",
              "      <td>0</td>\n",
              "    </tr>\n",
              "    <tr>\n",
              "      <th>Admission Type</th>\n",
              "      <td>0</td>\n",
              "    </tr>\n",
              "    <tr>\n",
              "      <th>Discharge Date</th>\n",
              "      <td>0</td>\n",
              "    </tr>\n",
              "    <tr>\n",
              "      <th>Medication</th>\n",
              "      <td>0</td>\n",
              "    </tr>\n",
              "    <tr>\n",
              "      <th>Test Results</th>\n",
              "      <td>0</td>\n",
              "    </tr>\n",
              "  </tbody>\n",
              "</table>\n",
              "</div><br><label><b>dtype:</b> int64</label>"
            ]
          },
          "metadata": {},
          "execution_count": 6
        }
      ]
    },
    {
      "cell_type": "code",
      "source": [
        "Healthcare['Date of Admission'] = pd.to_datetime(Healthcare['Date of Admission'])\n",
        "Healthcare['Discharge Date'] = pd.to_datetime(Healthcare['Discharge Date'])"
      ],
      "metadata": {
        "id": "4I2uArZxJ_r4"
      },
      "execution_count": 7,
      "outputs": []
    },
    {
      "cell_type": "code",
      "source": [
        "Healthcare.info()"
      ],
      "metadata": {
        "colab": {
          "base_uri": "https://localhost:8080/"
        },
        "id": "dzU5E-CmKXVj",
        "outputId": "28212b64-d308-413a-b2cb-be9a22d0b1b5"
      },
      "execution_count": 8,
      "outputs": [
        {
          "output_type": "stream",
          "name": "stdout",
          "text": [
            "<class 'pandas.core.frame.DataFrame'>\n",
            "RangeIndex: 55500 entries, 0 to 55499\n",
            "Data columns (total 15 columns):\n",
            " #   Column              Non-Null Count  Dtype         \n",
            "---  ------              --------------  -----         \n",
            " 0   Name                55500 non-null  object        \n",
            " 1   Age                 55500 non-null  int64         \n",
            " 2   Gender              55500 non-null  object        \n",
            " 3   Blood Type          55500 non-null  object        \n",
            " 4   Medical Condition   55500 non-null  object        \n",
            " 5   Date of Admission   55500 non-null  datetime64[ns]\n",
            " 6   Doctor              55500 non-null  object        \n",
            " 7   Hospital            55500 non-null  object        \n",
            " 8   Insurance Provider  55500 non-null  object        \n",
            " 9   Billing Amount      55500 non-null  float64       \n",
            " 10  Room Number         55500 non-null  int64         \n",
            " 11  Admission Type      55500 non-null  object        \n",
            " 12  Discharge Date      55500 non-null  datetime64[ns]\n",
            " 13  Medication          55500 non-null  object        \n",
            " 14  Test Results        55500 non-null  object        \n",
            "dtypes: datetime64[ns](2), float64(1), int64(2), object(10)\n",
            "memory usage: 6.4+ MB\n"
          ]
        }
      ]
    },
    {
      "cell_type": "code",
      "source": [
        "Healthcare.columns"
      ],
      "metadata": {
        "colab": {
          "base_uri": "https://localhost:8080/"
        },
        "id": "AZ7auHqNcsAH",
        "outputId": "cbf5d026-0fe4-4e8e-8883-f71add8ca278"
      },
      "execution_count": 9,
      "outputs": [
        {
          "output_type": "execute_result",
          "data": {
            "text/plain": [
              "Index(['Name', 'Age', 'Gender', 'Blood Type', 'Medical Condition',\n",
              "       'Date of Admission', 'Doctor', 'Hospital', 'Insurance Provider',\n",
              "       'Billing Amount', 'Room Number', 'Admission Type', 'Discharge Date',\n",
              "       'Medication', 'Test Results'],\n",
              "      dtype='object')"
            ]
          },
          "metadata": {},
          "execution_count": 9
        }
      ]
    },
    {
      "cell_type": "code",
      "source": [
        "Healthcare.describe()"
      ],
      "metadata": {
        "colab": {
          "base_uri": "https://localhost:8080/",
          "height": 300
        },
        "id": "25yCpXhgTHdD",
        "outputId": "8f8ec7e8-4c8a-4456-ccf0-042a0806ef3b"
      },
      "execution_count": 10,
      "outputs": [
        {
          "output_type": "execute_result",
          "data": {
            "text/plain": [
              "                Age              Date of Admission  Billing Amount  \\\n",
              "count  55500.000000                          55500    55500.000000   \n",
              "mean      51.539459  2021-11-01 01:02:22.443243008    25539.316097   \n",
              "min       13.000000            2019-05-08 00:00:00    -2008.492140   \n",
              "25%       35.000000            2020-07-28 00:00:00    13241.224652   \n",
              "50%       52.000000            2021-11-01 00:00:00    25538.069376   \n",
              "75%       68.000000            2023-02-03 00:00:00    37820.508436   \n",
              "max       89.000000            2024-05-07 00:00:00    52764.276736   \n",
              "std       19.602454                            NaN    14211.454431   \n",
              "\n",
              "        Room Number                 Discharge Date  \n",
              "count  55500.000000                          55500  \n",
              "mean     301.134829  2021-11-16 13:15:20.821621504  \n",
              "min      101.000000            2019-05-09 00:00:00  \n",
              "25%      202.000000            2020-08-12 00:00:00  \n",
              "50%      302.000000            2021-11-17 00:00:00  \n",
              "75%      401.000000            2023-02-18 00:00:00  \n",
              "max      500.000000            2024-06-06 00:00:00  \n",
              "std      115.243069                            NaN  "
            ],
            "text/html": [
              "\n",
              "  <div id=\"df-46905f68-8fa0-4080-9128-587286ef82cc\" class=\"colab-df-container\">\n",
              "    <div>\n",
              "<style scoped>\n",
              "    .dataframe tbody tr th:only-of-type {\n",
              "        vertical-align: middle;\n",
              "    }\n",
              "\n",
              "    .dataframe tbody tr th {\n",
              "        vertical-align: top;\n",
              "    }\n",
              "\n",
              "    .dataframe thead th {\n",
              "        text-align: right;\n",
              "    }\n",
              "</style>\n",
              "<table border=\"1\" class=\"dataframe\">\n",
              "  <thead>\n",
              "    <tr style=\"text-align: right;\">\n",
              "      <th></th>\n",
              "      <th>Age</th>\n",
              "      <th>Date of Admission</th>\n",
              "      <th>Billing Amount</th>\n",
              "      <th>Room Number</th>\n",
              "      <th>Discharge Date</th>\n",
              "    </tr>\n",
              "  </thead>\n",
              "  <tbody>\n",
              "    <tr>\n",
              "      <th>count</th>\n",
              "      <td>55500.000000</td>\n",
              "      <td>55500</td>\n",
              "      <td>55500.000000</td>\n",
              "      <td>55500.000000</td>\n",
              "      <td>55500</td>\n",
              "    </tr>\n",
              "    <tr>\n",
              "      <th>mean</th>\n",
              "      <td>51.539459</td>\n",
              "      <td>2021-11-01 01:02:22.443243008</td>\n",
              "      <td>25539.316097</td>\n",
              "      <td>301.134829</td>\n",
              "      <td>2021-11-16 13:15:20.821621504</td>\n",
              "    </tr>\n",
              "    <tr>\n",
              "      <th>min</th>\n",
              "      <td>13.000000</td>\n",
              "      <td>2019-05-08 00:00:00</td>\n",
              "      <td>-2008.492140</td>\n",
              "      <td>101.000000</td>\n",
              "      <td>2019-05-09 00:00:00</td>\n",
              "    </tr>\n",
              "    <tr>\n",
              "      <th>25%</th>\n",
              "      <td>35.000000</td>\n",
              "      <td>2020-07-28 00:00:00</td>\n",
              "      <td>13241.224652</td>\n",
              "      <td>202.000000</td>\n",
              "      <td>2020-08-12 00:00:00</td>\n",
              "    </tr>\n",
              "    <tr>\n",
              "      <th>50%</th>\n",
              "      <td>52.000000</td>\n",
              "      <td>2021-11-01 00:00:00</td>\n",
              "      <td>25538.069376</td>\n",
              "      <td>302.000000</td>\n",
              "      <td>2021-11-17 00:00:00</td>\n",
              "    </tr>\n",
              "    <tr>\n",
              "      <th>75%</th>\n",
              "      <td>68.000000</td>\n",
              "      <td>2023-02-03 00:00:00</td>\n",
              "      <td>37820.508436</td>\n",
              "      <td>401.000000</td>\n",
              "      <td>2023-02-18 00:00:00</td>\n",
              "    </tr>\n",
              "    <tr>\n",
              "      <th>max</th>\n",
              "      <td>89.000000</td>\n",
              "      <td>2024-05-07 00:00:00</td>\n",
              "      <td>52764.276736</td>\n",
              "      <td>500.000000</td>\n",
              "      <td>2024-06-06 00:00:00</td>\n",
              "    </tr>\n",
              "    <tr>\n",
              "      <th>std</th>\n",
              "      <td>19.602454</td>\n",
              "      <td>NaN</td>\n",
              "      <td>14211.454431</td>\n",
              "      <td>115.243069</td>\n",
              "      <td>NaN</td>\n",
              "    </tr>\n",
              "  </tbody>\n",
              "</table>\n",
              "</div>\n",
              "    <div class=\"colab-df-buttons\">\n",
              "\n",
              "  <div class=\"colab-df-container\">\n",
              "    <button class=\"colab-df-convert\" onclick=\"convertToInteractive('df-46905f68-8fa0-4080-9128-587286ef82cc')\"\n",
              "            title=\"Convert this dataframe to an interactive table.\"\n",
              "            style=\"display:none;\">\n",
              "\n",
              "  <svg xmlns=\"http://www.w3.org/2000/svg\" height=\"24px\" viewBox=\"0 -960 960 960\">\n",
              "    <path d=\"M120-120v-720h720v720H120Zm60-500h600v-160H180v160Zm220 220h160v-160H400v160Zm0 220h160v-160H400v160ZM180-400h160v-160H180v160Zm440 0h160v-160H620v160ZM180-180h160v-160H180v160Zm440 0h160v-160H620v160Z\"/>\n",
              "  </svg>\n",
              "    </button>\n",
              "\n",
              "  <style>\n",
              "    .colab-df-container {\n",
              "      display:flex;\n",
              "      gap: 12px;\n",
              "    }\n",
              "\n",
              "    .colab-df-convert {\n",
              "      background-color: #E8F0FE;\n",
              "      border: none;\n",
              "      border-radius: 50%;\n",
              "      cursor: pointer;\n",
              "      display: none;\n",
              "      fill: #1967D2;\n",
              "      height: 32px;\n",
              "      padding: 0 0 0 0;\n",
              "      width: 32px;\n",
              "    }\n",
              "\n",
              "    .colab-df-convert:hover {\n",
              "      background-color: #E2EBFA;\n",
              "      box-shadow: 0px 1px 2px rgba(60, 64, 67, 0.3), 0px 1px 3px 1px rgba(60, 64, 67, 0.15);\n",
              "      fill: #174EA6;\n",
              "    }\n",
              "\n",
              "    .colab-df-buttons div {\n",
              "      margin-bottom: 4px;\n",
              "    }\n",
              "\n",
              "    [theme=dark] .colab-df-convert {\n",
              "      background-color: #3B4455;\n",
              "      fill: #D2E3FC;\n",
              "    }\n",
              "\n",
              "    [theme=dark] .colab-df-convert:hover {\n",
              "      background-color: #434B5C;\n",
              "      box-shadow: 0px 1px 3px 1px rgba(0, 0, 0, 0.15);\n",
              "      filter: drop-shadow(0px 1px 2px rgba(0, 0, 0, 0.3));\n",
              "      fill: #FFFFFF;\n",
              "    }\n",
              "  </style>\n",
              "\n",
              "    <script>\n",
              "      const buttonEl =\n",
              "        document.querySelector('#df-46905f68-8fa0-4080-9128-587286ef82cc button.colab-df-convert');\n",
              "      buttonEl.style.display =\n",
              "        google.colab.kernel.accessAllowed ? 'block' : 'none';\n",
              "\n",
              "      async function convertToInteractive(key) {\n",
              "        const element = document.querySelector('#df-46905f68-8fa0-4080-9128-587286ef82cc');\n",
              "        const dataTable =\n",
              "          await google.colab.kernel.invokeFunction('convertToInteractive',\n",
              "                                                    [key], {});\n",
              "        if (!dataTable) return;\n",
              "\n",
              "        const docLinkHtml = 'Like what you see? Visit the ' +\n",
              "          '<a target=\"_blank\" href=https://colab.research.google.com/notebooks/data_table.ipynb>data table notebook</a>'\n",
              "          + ' to learn more about interactive tables.';\n",
              "        element.innerHTML = '';\n",
              "        dataTable['output_type'] = 'display_data';\n",
              "        await google.colab.output.renderOutput(dataTable, element);\n",
              "        const docLink = document.createElement('div');\n",
              "        docLink.innerHTML = docLinkHtml;\n",
              "        element.appendChild(docLink);\n",
              "      }\n",
              "    </script>\n",
              "  </div>\n",
              "\n",
              "\n",
              "<div id=\"df-d36cbc6c-d1e5-4741-91e5-1b662fe63971\">\n",
              "  <button class=\"colab-df-quickchart\" onclick=\"quickchart('df-d36cbc6c-d1e5-4741-91e5-1b662fe63971')\"\n",
              "            title=\"Suggest charts\"\n",
              "            style=\"display:none;\">\n",
              "\n",
              "<svg xmlns=\"http://www.w3.org/2000/svg\" height=\"24px\"viewBox=\"0 0 24 24\"\n",
              "     width=\"24px\">\n",
              "    <g>\n",
              "        <path d=\"M19 3H5c-1.1 0-2 .9-2 2v14c0 1.1.9 2 2 2h14c1.1 0 2-.9 2-2V5c0-1.1-.9-2-2-2zM9 17H7v-7h2v7zm4 0h-2V7h2v10zm4 0h-2v-4h2v4z\"/>\n",
              "    </g>\n",
              "</svg>\n",
              "  </button>\n",
              "\n",
              "<style>\n",
              "  .colab-df-quickchart {\n",
              "      --bg-color: #E8F0FE;\n",
              "      --fill-color: #1967D2;\n",
              "      --hover-bg-color: #E2EBFA;\n",
              "      --hover-fill-color: #174EA6;\n",
              "      --disabled-fill-color: #AAA;\n",
              "      --disabled-bg-color: #DDD;\n",
              "  }\n",
              "\n",
              "  [theme=dark] .colab-df-quickchart {\n",
              "      --bg-color: #3B4455;\n",
              "      --fill-color: #D2E3FC;\n",
              "      --hover-bg-color: #434B5C;\n",
              "      --hover-fill-color: #FFFFFF;\n",
              "      --disabled-bg-color: #3B4455;\n",
              "      --disabled-fill-color: #666;\n",
              "  }\n",
              "\n",
              "  .colab-df-quickchart {\n",
              "    background-color: var(--bg-color);\n",
              "    border: none;\n",
              "    border-radius: 50%;\n",
              "    cursor: pointer;\n",
              "    display: none;\n",
              "    fill: var(--fill-color);\n",
              "    height: 32px;\n",
              "    padding: 0;\n",
              "    width: 32px;\n",
              "  }\n",
              "\n",
              "  .colab-df-quickchart:hover {\n",
              "    background-color: var(--hover-bg-color);\n",
              "    box-shadow: 0 1px 2px rgba(60, 64, 67, 0.3), 0 1px 3px 1px rgba(60, 64, 67, 0.15);\n",
              "    fill: var(--button-hover-fill-color);\n",
              "  }\n",
              "\n",
              "  .colab-df-quickchart-complete:disabled,\n",
              "  .colab-df-quickchart-complete:disabled:hover {\n",
              "    background-color: var(--disabled-bg-color);\n",
              "    fill: var(--disabled-fill-color);\n",
              "    box-shadow: none;\n",
              "  }\n",
              "\n",
              "  .colab-df-spinner {\n",
              "    border: 2px solid var(--fill-color);\n",
              "    border-color: transparent;\n",
              "    border-bottom-color: var(--fill-color);\n",
              "    animation:\n",
              "      spin 1s steps(1) infinite;\n",
              "  }\n",
              "\n",
              "  @keyframes spin {\n",
              "    0% {\n",
              "      border-color: transparent;\n",
              "      border-bottom-color: var(--fill-color);\n",
              "      border-left-color: var(--fill-color);\n",
              "    }\n",
              "    20% {\n",
              "      border-color: transparent;\n",
              "      border-left-color: var(--fill-color);\n",
              "      border-top-color: var(--fill-color);\n",
              "    }\n",
              "    30% {\n",
              "      border-color: transparent;\n",
              "      border-left-color: var(--fill-color);\n",
              "      border-top-color: var(--fill-color);\n",
              "      border-right-color: var(--fill-color);\n",
              "    }\n",
              "    40% {\n",
              "      border-color: transparent;\n",
              "      border-right-color: var(--fill-color);\n",
              "      border-top-color: var(--fill-color);\n",
              "    }\n",
              "    60% {\n",
              "      border-color: transparent;\n",
              "      border-right-color: var(--fill-color);\n",
              "    }\n",
              "    80% {\n",
              "      border-color: transparent;\n",
              "      border-right-color: var(--fill-color);\n",
              "      border-bottom-color: var(--fill-color);\n",
              "    }\n",
              "    90% {\n",
              "      border-color: transparent;\n",
              "      border-bottom-color: var(--fill-color);\n",
              "    }\n",
              "  }\n",
              "</style>\n",
              "\n",
              "  <script>\n",
              "    async function quickchart(key) {\n",
              "      const quickchartButtonEl =\n",
              "        document.querySelector('#' + key + ' button');\n",
              "      quickchartButtonEl.disabled = true;  // To prevent multiple clicks.\n",
              "      quickchartButtonEl.classList.add('colab-df-spinner');\n",
              "      try {\n",
              "        const charts = await google.colab.kernel.invokeFunction(\n",
              "            'suggestCharts', [key], {});\n",
              "      } catch (error) {\n",
              "        console.error('Error during call to suggestCharts:', error);\n",
              "      }\n",
              "      quickchartButtonEl.classList.remove('colab-df-spinner');\n",
              "      quickchartButtonEl.classList.add('colab-df-quickchart-complete');\n",
              "    }\n",
              "    (() => {\n",
              "      let quickchartButtonEl =\n",
              "        document.querySelector('#df-d36cbc6c-d1e5-4741-91e5-1b662fe63971 button');\n",
              "      quickchartButtonEl.style.display =\n",
              "        google.colab.kernel.accessAllowed ? 'block' : 'none';\n",
              "    })();\n",
              "  </script>\n",
              "</div>\n",
              "\n",
              "    </div>\n",
              "  </div>\n"
            ],
            "application/vnd.google.colaboratory.intrinsic+json": {
              "type": "dataframe",
              "summary": "{\n  \"name\": \"Healthcare\",\n  \"rows\": 8,\n  \"fields\": [\n    {\n      \"column\": \"Age\",\n      \"properties\": {\n        \"dtype\": \"number\",\n        \"std\": 19605.655178639798,\n        \"min\": 13.0,\n        \"max\": 55500.0,\n        \"num_unique_values\": 8,\n        \"samples\": [\n          51.53945945945946,\n          68.0,\n          55500.0\n        ],\n        \"semantic_type\": \"\",\n        \"description\": \"\"\n      }\n    },\n    {\n      \"column\": \"Date of Admission\",\n      \"properties\": {\n        \"dtype\": \"date\",\n        \"min\": \"1970-01-01 00:00:00.000055500\",\n        \"max\": \"2024-05-07 00:00:00\",\n        \"num_unique_values\": 7,\n        \"samples\": [\n          \"55500\",\n          \"2021-11-01 01:02:22.443243008\",\n          \"2023-02-03 00:00:00\"\n        ],\n        \"semantic_type\": \"\",\n        \"description\": \"\"\n      }\n    },\n    {\n      \"column\": \"Billing Amount\",\n      \"properties\": {\n        \"dtype\": \"number\",\n        \"std\": 19950.976041897342,\n        \"min\": -2008.4921398591305,\n        \"max\": 55500.0,\n        \"num_unique_values\": 8,\n        \"samples\": [\n          25539.316097211795,\n          37820.508435784795,\n          55500.0\n        ],\n        \"semantic_type\": \"\",\n        \"description\": \"\"\n      }\n    },\n    {\n      \"column\": \"Room Number\",\n      \"properties\": {\n        \"dtype\": \"number\",\n        \"std\": 19525.59048942174,\n        \"min\": 101.0,\n        \"max\": 55500.0,\n        \"num_unique_values\": 8,\n        \"samples\": [\n          301.1348288288288,\n          401.0,\n          55500.0\n        ],\n        \"semantic_type\": \"\",\n        \"description\": \"\"\n      }\n    },\n    {\n      \"column\": \"Discharge Date\",\n      \"properties\": {\n        \"dtype\": \"date\",\n        \"min\": \"1970-01-01 00:00:00.000055500\",\n        \"max\": \"2024-06-06 00:00:00\",\n        \"num_unique_values\": 7,\n        \"samples\": [\n          \"55500\",\n          \"2021-11-16 13:15:20.821621504\",\n          \"2023-02-18 00:00:00\"\n        ],\n        \"semantic_type\": \"\",\n        \"description\": \"\"\n      }\n    }\n  ]\n}"
            }
          },
          "metadata": {},
          "execution_count": 10
        }
      ]
    },
    {
      "cell_type": "code",
      "source": [
        "Healthcare.describe(include = \"object\").T"
      ],
      "metadata": {
        "colab": {
          "base_uri": "https://localhost:8080/",
          "height": 363
        },
        "outputId": "bd5feed0-31d5-4c59-d424-62216c1283f0",
        "id": "SBgNsssATaxA"
      },
      "execution_count": 11,
      "outputs": [
        {
          "output_type": "execute_result",
          "data": {
            "text/plain": [
              "                    count unique            top   freq\n",
              "Name                55500  49992    DAvId muNoZ      3\n",
              "Gender              55500      2           Male  27774\n",
              "Blood Type          55500      8             A-   6969\n",
              "Medical Condition   55500      6      Arthritis   9308\n",
              "Doctor              55500  40341  Michael Smith     27\n",
              "Hospital            55500  39876      LLC Smith     44\n",
              "Insurance Provider  55500      5          Cigna  11249\n",
              "Admission Type      55500      3       Elective  18655\n",
              "Medication          55500      5        Lipitor  11140\n",
              "Test Results        55500      3       Abnormal  18627"
            ],
            "text/html": [
              "\n",
              "  <div id=\"df-1a8b1778-0777-4841-b5bf-b25083ed096d\" class=\"colab-df-container\">\n",
              "    <div>\n",
              "<style scoped>\n",
              "    .dataframe tbody tr th:only-of-type {\n",
              "        vertical-align: middle;\n",
              "    }\n",
              "\n",
              "    .dataframe tbody tr th {\n",
              "        vertical-align: top;\n",
              "    }\n",
              "\n",
              "    .dataframe thead th {\n",
              "        text-align: right;\n",
              "    }\n",
              "</style>\n",
              "<table border=\"1\" class=\"dataframe\">\n",
              "  <thead>\n",
              "    <tr style=\"text-align: right;\">\n",
              "      <th></th>\n",
              "      <th>count</th>\n",
              "      <th>unique</th>\n",
              "      <th>top</th>\n",
              "      <th>freq</th>\n",
              "    </tr>\n",
              "  </thead>\n",
              "  <tbody>\n",
              "    <tr>\n",
              "      <th>Name</th>\n",
              "      <td>55500</td>\n",
              "      <td>49992</td>\n",
              "      <td>DAvId muNoZ</td>\n",
              "      <td>3</td>\n",
              "    </tr>\n",
              "    <tr>\n",
              "      <th>Gender</th>\n",
              "      <td>55500</td>\n",
              "      <td>2</td>\n",
              "      <td>Male</td>\n",
              "      <td>27774</td>\n",
              "    </tr>\n",
              "    <tr>\n",
              "      <th>Blood Type</th>\n",
              "      <td>55500</td>\n",
              "      <td>8</td>\n",
              "      <td>A-</td>\n",
              "      <td>6969</td>\n",
              "    </tr>\n",
              "    <tr>\n",
              "      <th>Medical Condition</th>\n",
              "      <td>55500</td>\n",
              "      <td>6</td>\n",
              "      <td>Arthritis</td>\n",
              "      <td>9308</td>\n",
              "    </tr>\n",
              "    <tr>\n",
              "      <th>Doctor</th>\n",
              "      <td>55500</td>\n",
              "      <td>40341</td>\n",
              "      <td>Michael Smith</td>\n",
              "      <td>27</td>\n",
              "    </tr>\n",
              "    <tr>\n",
              "      <th>Hospital</th>\n",
              "      <td>55500</td>\n",
              "      <td>39876</td>\n",
              "      <td>LLC Smith</td>\n",
              "      <td>44</td>\n",
              "    </tr>\n",
              "    <tr>\n",
              "      <th>Insurance Provider</th>\n",
              "      <td>55500</td>\n",
              "      <td>5</td>\n",
              "      <td>Cigna</td>\n",
              "      <td>11249</td>\n",
              "    </tr>\n",
              "    <tr>\n",
              "      <th>Admission Type</th>\n",
              "      <td>55500</td>\n",
              "      <td>3</td>\n",
              "      <td>Elective</td>\n",
              "      <td>18655</td>\n",
              "    </tr>\n",
              "    <tr>\n",
              "      <th>Medication</th>\n",
              "      <td>55500</td>\n",
              "      <td>5</td>\n",
              "      <td>Lipitor</td>\n",
              "      <td>11140</td>\n",
              "    </tr>\n",
              "    <tr>\n",
              "      <th>Test Results</th>\n",
              "      <td>55500</td>\n",
              "      <td>3</td>\n",
              "      <td>Abnormal</td>\n",
              "      <td>18627</td>\n",
              "    </tr>\n",
              "  </tbody>\n",
              "</table>\n",
              "</div>\n",
              "    <div class=\"colab-df-buttons\">\n",
              "\n",
              "  <div class=\"colab-df-container\">\n",
              "    <button class=\"colab-df-convert\" onclick=\"convertToInteractive('df-1a8b1778-0777-4841-b5bf-b25083ed096d')\"\n",
              "            title=\"Convert this dataframe to an interactive table.\"\n",
              "            style=\"display:none;\">\n",
              "\n",
              "  <svg xmlns=\"http://www.w3.org/2000/svg\" height=\"24px\" viewBox=\"0 -960 960 960\">\n",
              "    <path d=\"M120-120v-720h720v720H120Zm60-500h600v-160H180v160Zm220 220h160v-160H400v160Zm0 220h160v-160H400v160ZM180-400h160v-160H180v160Zm440 0h160v-160H620v160ZM180-180h160v-160H180v160Zm440 0h160v-160H620v160Z\"/>\n",
              "  </svg>\n",
              "    </button>\n",
              "\n",
              "  <style>\n",
              "    .colab-df-container {\n",
              "      display:flex;\n",
              "      gap: 12px;\n",
              "    }\n",
              "\n",
              "    .colab-df-convert {\n",
              "      background-color: #E8F0FE;\n",
              "      border: none;\n",
              "      border-radius: 50%;\n",
              "      cursor: pointer;\n",
              "      display: none;\n",
              "      fill: #1967D2;\n",
              "      height: 32px;\n",
              "      padding: 0 0 0 0;\n",
              "      width: 32px;\n",
              "    }\n",
              "\n",
              "    .colab-df-convert:hover {\n",
              "      background-color: #E2EBFA;\n",
              "      box-shadow: 0px 1px 2px rgba(60, 64, 67, 0.3), 0px 1px 3px 1px rgba(60, 64, 67, 0.15);\n",
              "      fill: #174EA6;\n",
              "    }\n",
              "\n",
              "    .colab-df-buttons div {\n",
              "      margin-bottom: 4px;\n",
              "    }\n",
              "\n",
              "    [theme=dark] .colab-df-convert {\n",
              "      background-color: #3B4455;\n",
              "      fill: #D2E3FC;\n",
              "    }\n",
              "\n",
              "    [theme=dark] .colab-df-convert:hover {\n",
              "      background-color: #434B5C;\n",
              "      box-shadow: 0px 1px 3px 1px rgba(0, 0, 0, 0.15);\n",
              "      filter: drop-shadow(0px 1px 2px rgba(0, 0, 0, 0.3));\n",
              "      fill: #FFFFFF;\n",
              "    }\n",
              "  </style>\n",
              "\n",
              "    <script>\n",
              "      const buttonEl =\n",
              "        document.querySelector('#df-1a8b1778-0777-4841-b5bf-b25083ed096d button.colab-df-convert');\n",
              "      buttonEl.style.display =\n",
              "        google.colab.kernel.accessAllowed ? 'block' : 'none';\n",
              "\n",
              "      async function convertToInteractive(key) {\n",
              "        const element = document.querySelector('#df-1a8b1778-0777-4841-b5bf-b25083ed096d');\n",
              "        const dataTable =\n",
              "          await google.colab.kernel.invokeFunction('convertToInteractive',\n",
              "                                                    [key], {});\n",
              "        if (!dataTable) return;\n",
              "\n",
              "        const docLinkHtml = 'Like what you see? Visit the ' +\n",
              "          '<a target=\"_blank\" href=https://colab.research.google.com/notebooks/data_table.ipynb>data table notebook</a>'\n",
              "          + ' to learn more about interactive tables.';\n",
              "        element.innerHTML = '';\n",
              "        dataTable['output_type'] = 'display_data';\n",
              "        await google.colab.output.renderOutput(dataTable, element);\n",
              "        const docLink = document.createElement('div');\n",
              "        docLink.innerHTML = docLinkHtml;\n",
              "        element.appendChild(docLink);\n",
              "      }\n",
              "    </script>\n",
              "  </div>\n",
              "\n",
              "\n",
              "<div id=\"df-6dea845f-1f0d-4b9a-9af8-8f17c6ef18cf\">\n",
              "  <button class=\"colab-df-quickchart\" onclick=\"quickchart('df-6dea845f-1f0d-4b9a-9af8-8f17c6ef18cf')\"\n",
              "            title=\"Suggest charts\"\n",
              "            style=\"display:none;\">\n",
              "\n",
              "<svg xmlns=\"http://www.w3.org/2000/svg\" height=\"24px\"viewBox=\"0 0 24 24\"\n",
              "     width=\"24px\">\n",
              "    <g>\n",
              "        <path d=\"M19 3H5c-1.1 0-2 .9-2 2v14c0 1.1.9 2 2 2h14c1.1 0 2-.9 2-2V5c0-1.1-.9-2-2-2zM9 17H7v-7h2v7zm4 0h-2V7h2v10zm4 0h-2v-4h2v4z\"/>\n",
              "    </g>\n",
              "</svg>\n",
              "  </button>\n",
              "\n",
              "<style>\n",
              "  .colab-df-quickchart {\n",
              "      --bg-color: #E8F0FE;\n",
              "      --fill-color: #1967D2;\n",
              "      --hover-bg-color: #E2EBFA;\n",
              "      --hover-fill-color: #174EA6;\n",
              "      --disabled-fill-color: #AAA;\n",
              "      --disabled-bg-color: #DDD;\n",
              "  }\n",
              "\n",
              "  [theme=dark] .colab-df-quickchart {\n",
              "      --bg-color: #3B4455;\n",
              "      --fill-color: #D2E3FC;\n",
              "      --hover-bg-color: #434B5C;\n",
              "      --hover-fill-color: #FFFFFF;\n",
              "      --disabled-bg-color: #3B4455;\n",
              "      --disabled-fill-color: #666;\n",
              "  }\n",
              "\n",
              "  .colab-df-quickchart {\n",
              "    background-color: var(--bg-color);\n",
              "    border: none;\n",
              "    border-radius: 50%;\n",
              "    cursor: pointer;\n",
              "    display: none;\n",
              "    fill: var(--fill-color);\n",
              "    height: 32px;\n",
              "    padding: 0;\n",
              "    width: 32px;\n",
              "  }\n",
              "\n",
              "  .colab-df-quickchart:hover {\n",
              "    background-color: var(--hover-bg-color);\n",
              "    box-shadow: 0 1px 2px rgba(60, 64, 67, 0.3), 0 1px 3px 1px rgba(60, 64, 67, 0.15);\n",
              "    fill: var(--button-hover-fill-color);\n",
              "  }\n",
              "\n",
              "  .colab-df-quickchart-complete:disabled,\n",
              "  .colab-df-quickchart-complete:disabled:hover {\n",
              "    background-color: var(--disabled-bg-color);\n",
              "    fill: var(--disabled-fill-color);\n",
              "    box-shadow: none;\n",
              "  }\n",
              "\n",
              "  .colab-df-spinner {\n",
              "    border: 2px solid var(--fill-color);\n",
              "    border-color: transparent;\n",
              "    border-bottom-color: var(--fill-color);\n",
              "    animation:\n",
              "      spin 1s steps(1) infinite;\n",
              "  }\n",
              "\n",
              "  @keyframes spin {\n",
              "    0% {\n",
              "      border-color: transparent;\n",
              "      border-bottom-color: var(--fill-color);\n",
              "      border-left-color: var(--fill-color);\n",
              "    }\n",
              "    20% {\n",
              "      border-color: transparent;\n",
              "      border-left-color: var(--fill-color);\n",
              "      border-top-color: var(--fill-color);\n",
              "    }\n",
              "    30% {\n",
              "      border-color: transparent;\n",
              "      border-left-color: var(--fill-color);\n",
              "      border-top-color: var(--fill-color);\n",
              "      border-right-color: var(--fill-color);\n",
              "    }\n",
              "    40% {\n",
              "      border-color: transparent;\n",
              "      border-right-color: var(--fill-color);\n",
              "      border-top-color: var(--fill-color);\n",
              "    }\n",
              "    60% {\n",
              "      border-color: transparent;\n",
              "      border-right-color: var(--fill-color);\n",
              "    }\n",
              "    80% {\n",
              "      border-color: transparent;\n",
              "      border-right-color: var(--fill-color);\n",
              "      border-bottom-color: var(--fill-color);\n",
              "    }\n",
              "    90% {\n",
              "      border-color: transparent;\n",
              "      border-bottom-color: var(--fill-color);\n",
              "    }\n",
              "  }\n",
              "</style>\n",
              "\n",
              "  <script>\n",
              "    async function quickchart(key) {\n",
              "      const quickchartButtonEl =\n",
              "        document.querySelector('#' + key + ' button');\n",
              "      quickchartButtonEl.disabled = true;  // To prevent multiple clicks.\n",
              "      quickchartButtonEl.classList.add('colab-df-spinner');\n",
              "      try {\n",
              "        const charts = await google.colab.kernel.invokeFunction(\n",
              "            'suggestCharts', [key], {});\n",
              "      } catch (error) {\n",
              "        console.error('Error during call to suggestCharts:', error);\n",
              "      }\n",
              "      quickchartButtonEl.classList.remove('colab-df-spinner');\n",
              "      quickchartButtonEl.classList.add('colab-df-quickchart-complete');\n",
              "    }\n",
              "    (() => {\n",
              "      let quickchartButtonEl =\n",
              "        document.querySelector('#df-6dea845f-1f0d-4b9a-9af8-8f17c6ef18cf button');\n",
              "      quickchartButtonEl.style.display =\n",
              "        google.colab.kernel.accessAllowed ? 'block' : 'none';\n",
              "    })();\n",
              "  </script>\n",
              "</div>\n",
              "\n",
              "    </div>\n",
              "  </div>\n"
            ],
            "application/vnd.google.colaboratory.intrinsic+json": {
              "type": "dataframe",
              "summary": "{\n  \"name\": \"Healthcare\",\n  \"rows\": 10,\n  \"fields\": [\n    {\n      \"column\": \"count\",\n      \"properties\": {\n        \"dtype\": \"date\",\n        \"min\": \"55500\",\n        \"max\": \"55500\",\n        \"num_unique_values\": 1,\n        \"samples\": [\n          \"55500\"\n        ],\n        \"semantic_type\": \"\",\n        \"description\": \"\"\n      }\n    },\n    {\n      \"column\": \"unique\",\n      \"properties\": {\n        \"dtype\": \"date\",\n        \"min\": 2,\n        \"max\": 49992,\n        \"num_unique_values\": 8,\n        \"samples\": [\n          2\n        ],\n        \"semantic_type\": \"\",\n        \"description\": \"\"\n      }\n    },\n    {\n      \"column\": \"top\",\n      \"properties\": {\n        \"dtype\": \"string\",\n        \"num_unique_values\": 10,\n        \"samples\": [\n          \"Lipitor\"\n        ],\n        \"semantic_type\": \"\",\n        \"description\": \"\"\n      }\n    },\n    {\n      \"column\": \"freq\",\n      \"properties\": {\n        \"dtype\": \"date\",\n        \"min\": \"3\",\n        \"max\": \"27774\",\n        \"num_unique_values\": 10,\n        \"samples\": [\n          \"11140\"\n        ],\n        \"semantic_type\": \"\",\n        \"description\": \"\"\n      }\n    }\n  ]\n}"
            }
          },
          "metadata": {},
          "execution_count": 11
        }
      ]
    },
    {
      "cell_type": "code",
      "source": [
        "Healthcare['Blood Type'].value_counts()"
      ],
      "metadata": {
        "colab": {
          "base_uri": "https://localhost:8080/",
          "height": 366
        },
        "id": "24tU8c0AUhsx",
        "outputId": "efc7f169-2bd4-4843-b814-0f224dc3d18e"
      },
      "execution_count": 12,
      "outputs": [
        {
          "output_type": "execute_result",
          "data": {
            "text/plain": [
              "Blood Type\n",
              "A-     6969\n",
              "A+     6956\n",
              "AB+    6947\n",
              "AB-    6945\n",
              "B+     6945\n",
              "B-     6944\n",
              "O+     6917\n",
              "O-     6877\n",
              "Name: count, dtype: int64"
            ],
            "text/html": [
              "<div>\n",
              "<style scoped>\n",
              "    .dataframe tbody tr th:only-of-type {\n",
              "        vertical-align: middle;\n",
              "    }\n",
              "\n",
              "    .dataframe tbody tr th {\n",
              "        vertical-align: top;\n",
              "    }\n",
              "\n",
              "    .dataframe thead th {\n",
              "        text-align: right;\n",
              "    }\n",
              "</style>\n",
              "<table border=\"1\" class=\"dataframe\">\n",
              "  <thead>\n",
              "    <tr style=\"text-align: right;\">\n",
              "      <th></th>\n",
              "      <th>count</th>\n",
              "    </tr>\n",
              "    <tr>\n",
              "      <th>Blood Type</th>\n",
              "      <th></th>\n",
              "    </tr>\n",
              "  </thead>\n",
              "  <tbody>\n",
              "    <tr>\n",
              "      <th>A-</th>\n",
              "      <td>6969</td>\n",
              "    </tr>\n",
              "    <tr>\n",
              "      <th>A+</th>\n",
              "      <td>6956</td>\n",
              "    </tr>\n",
              "    <tr>\n",
              "      <th>AB+</th>\n",
              "      <td>6947</td>\n",
              "    </tr>\n",
              "    <tr>\n",
              "      <th>AB-</th>\n",
              "      <td>6945</td>\n",
              "    </tr>\n",
              "    <tr>\n",
              "      <th>B+</th>\n",
              "      <td>6945</td>\n",
              "    </tr>\n",
              "    <tr>\n",
              "      <th>B-</th>\n",
              "      <td>6944</td>\n",
              "    </tr>\n",
              "    <tr>\n",
              "      <th>O+</th>\n",
              "      <td>6917</td>\n",
              "    </tr>\n",
              "    <tr>\n",
              "      <th>O-</th>\n",
              "      <td>6877</td>\n",
              "    </tr>\n",
              "  </tbody>\n",
              "</table>\n",
              "</div><br><label><b>dtype:</b> int64</label>"
            ]
          },
          "metadata": {},
          "execution_count": 12
        }
      ]
    },
    {
      "cell_type": "code",
      "source": [
        "Healthcare['Gender'].value_counts()"
      ],
      "metadata": {
        "colab": {
          "base_uri": "https://localhost:8080/",
          "height": 178
        },
        "id": "pD4G79K9UTfo",
        "outputId": "383eb0bf-9257-4bd2-90bf-052a6206984c"
      },
      "execution_count": 13,
      "outputs": [
        {
          "output_type": "execute_result",
          "data": {
            "text/plain": [
              "Gender\n",
              "Male      27774\n",
              "Female    27726\n",
              "Name: count, dtype: int64"
            ],
            "text/html": [
              "<div>\n",
              "<style scoped>\n",
              "    .dataframe tbody tr th:only-of-type {\n",
              "        vertical-align: middle;\n",
              "    }\n",
              "\n",
              "    .dataframe tbody tr th {\n",
              "        vertical-align: top;\n",
              "    }\n",
              "\n",
              "    .dataframe thead th {\n",
              "        text-align: right;\n",
              "    }\n",
              "</style>\n",
              "<table border=\"1\" class=\"dataframe\">\n",
              "  <thead>\n",
              "    <tr style=\"text-align: right;\">\n",
              "      <th></th>\n",
              "      <th>count</th>\n",
              "    </tr>\n",
              "    <tr>\n",
              "      <th>Gender</th>\n",
              "      <th></th>\n",
              "    </tr>\n",
              "  </thead>\n",
              "  <tbody>\n",
              "    <tr>\n",
              "      <th>Male</th>\n",
              "      <td>27774</td>\n",
              "    </tr>\n",
              "    <tr>\n",
              "      <th>Female</th>\n",
              "      <td>27726</td>\n",
              "    </tr>\n",
              "  </tbody>\n",
              "</table>\n",
              "</div><br><label><b>dtype:</b> int64</label>"
            ]
          },
          "metadata": {},
          "execution_count": 13
        }
      ]
    },
    {
      "cell_type": "code",
      "source": [
        "Healthcare['Test Results'].value_counts()"
      ],
      "metadata": {
        "colab": {
          "base_uri": "https://localhost:8080/",
          "height": 209
        },
        "id": "0Rad36b5ZjhN",
        "outputId": "01b26e18-5481-4843-b0ed-77f26b16b63b"
      },
      "execution_count": 14,
      "outputs": [
        {
          "output_type": "execute_result",
          "data": {
            "text/plain": [
              "Test Results\n",
              "Abnormal        18627\n",
              "Normal          18517\n",
              "Inconclusive    18356\n",
              "Name: count, dtype: int64"
            ],
            "text/html": [
              "<div>\n",
              "<style scoped>\n",
              "    .dataframe tbody tr th:only-of-type {\n",
              "        vertical-align: middle;\n",
              "    }\n",
              "\n",
              "    .dataframe tbody tr th {\n",
              "        vertical-align: top;\n",
              "    }\n",
              "\n",
              "    .dataframe thead th {\n",
              "        text-align: right;\n",
              "    }\n",
              "</style>\n",
              "<table border=\"1\" class=\"dataframe\">\n",
              "  <thead>\n",
              "    <tr style=\"text-align: right;\">\n",
              "      <th></th>\n",
              "      <th>count</th>\n",
              "    </tr>\n",
              "    <tr>\n",
              "      <th>Test Results</th>\n",
              "      <th></th>\n",
              "    </tr>\n",
              "  </thead>\n",
              "  <tbody>\n",
              "    <tr>\n",
              "      <th>Abnormal</th>\n",
              "      <td>18627</td>\n",
              "    </tr>\n",
              "    <tr>\n",
              "      <th>Normal</th>\n",
              "      <td>18517</td>\n",
              "    </tr>\n",
              "    <tr>\n",
              "      <th>Inconclusive</th>\n",
              "      <td>18356</td>\n",
              "    </tr>\n",
              "  </tbody>\n",
              "</table>\n",
              "</div><br><label><b>dtype:</b> int64</label>"
            ]
          },
          "metadata": {},
          "execution_count": 14
        }
      ]
    },
    {
      "cell_type": "code",
      "source": [
        "Healthcare['Admission Type'].value_counts()"
      ],
      "metadata": {
        "colab": {
          "base_uri": "https://localhost:8080/",
          "height": 209
        },
        "id": "2Ozk91BRUXqy",
        "outputId": "67a4e96d-87d6-4b83-c8a7-850289644f24"
      },
      "execution_count": 15,
      "outputs": [
        {
          "output_type": "execute_result",
          "data": {
            "text/plain": [
              "Admission Type\n",
              "Elective     18655\n",
              "Urgent       18576\n",
              "Emergency    18269\n",
              "Name: count, dtype: int64"
            ],
            "text/html": [
              "<div>\n",
              "<style scoped>\n",
              "    .dataframe tbody tr th:only-of-type {\n",
              "        vertical-align: middle;\n",
              "    }\n",
              "\n",
              "    .dataframe tbody tr th {\n",
              "        vertical-align: top;\n",
              "    }\n",
              "\n",
              "    .dataframe thead th {\n",
              "        text-align: right;\n",
              "    }\n",
              "</style>\n",
              "<table border=\"1\" class=\"dataframe\">\n",
              "  <thead>\n",
              "    <tr style=\"text-align: right;\">\n",
              "      <th></th>\n",
              "      <th>count</th>\n",
              "    </tr>\n",
              "    <tr>\n",
              "      <th>Admission Type</th>\n",
              "      <th></th>\n",
              "    </tr>\n",
              "  </thead>\n",
              "  <tbody>\n",
              "    <tr>\n",
              "      <th>Elective</th>\n",
              "      <td>18655</td>\n",
              "    </tr>\n",
              "    <tr>\n",
              "      <th>Urgent</th>\n",
              "      <td>18576</td>\n",
              "    </tr>\n",
              "    <tr>\n",
              "      <th>Emergency</th>\n",
              "      <td>18269</td>\n",
              "    </tr>\n",
              "  </tbody>\n",
              "</table>\n",
              "</div><br><label><b>dtype:</b> int64</label>"
            ]
          },
          "metadata": {},
          "execution_count": 15
        }
      ]
    },
    {
      "cell_type": "markdown",
      "source": [
        " **Average age of patients?**"
      ],
      "metadata": {
        "id": "utt_RVBOaWHT"
      }
    },
    {
      "cell_type": "code",
      "source": [
        "average_age = Healthcare['Age'].mean()\n",
        "print(f\"The average age of patients is {average_age:.2f} years.\")"
      ],
      "metadata": {
        "colab": {
          "base_uri": "https://localhost:8080/"
        },
        "id": "_lfFUvq6Uuoe",
        "outputId": "e5fa1c50-57e9-463c-9424-4a31edfb955d"
      },
      "execution_count": 16,
      "outputs": [
        {
          "output_type": "stream",
          "name": "stdout",
          "text": [
            "The average age of patients is 51.54 years.\n"
          ]
        }
      ]
    },
    {
      "cell_type": "markdown",
      "source": [
        "**Most common medical condition**"
      ],
      "metadata": {
        "id": "G2phb7cNasA4"
      }
    },
    {
      "cell_type": "code",
      "source": [
        "most_common_condition = Healthcare['Medical Condition'].value_counts().idxmax()\n",
        "print(f\"The most common medical condition is {most_common_condition}.\")"
      ],
      "metadata": {
        "colab": {
          "base_uri": "https://localhost:8080/"
        },
        "id": "cK1v0yHNa2sd",
        "outputId": "31030fdf-d84b-45c4-ffb7-504c998ce49f"
      },
      "execution_count": 17,
      "outputs": [
        {
          "output_type": "stream",
          "name": "stdout",
          "text": [
            "The most common medical condition is Arthritis.\n"
          ]
        }
      ]
    },
    {
      "cell_type": "markdown",
      "source": [
        "**Least common medical condition**"
      ],
      "metadata": {
        "id": "ZCiCc3hqbJKN"
      }
    },
    {
      "cell_type": "code",
      "source": [
        "least_common_condition = Healthcare['Medical Condition'].value_counts().idxmin()\n",
        "print(f\"The least common medical condition is {least_common_condition}.\")"
      ],
      "metadata": {
        "colab": {
          "base_uri": "https://localhost:8080/"
        },
        "id": "oI82IRXpa9PN",
        "outputId": "6a931894-82c5-427b-d09d-4eb7c12b2847"
      },
      "execution_count": 18,
      "outputs": [
        {
          "output_type": "stream",
          "name": "stdout",
          "text": [
            "The least common medical condition is Asthma.\n"
          ]
        }
      ]
    },
    {
      "cell_type": "markdown",
      "source": [
        "**What is the average billing amount for each medical condition?**"
      ],
      "metadata": {
        "id": "myLRKyAyb7x0"
      }
    },
    {
      "cell_type": "code",
      "source": [
        "avg_billing_by_condition = Healthcare.groupby('Medical Condition')['Billing Amount'].mean()\n",
        "\n",
        "# Print the average billing amount by medical condition\n",
        "print(\"Average billing amount by medical condition:\")\n",
        "for condition, avg_billing in avg_billing_by_condition.items():\n",
        "    print(f\"{condition}: {avg_billing:.2f}\")"
      ],
      "metadata": {
        "colab": {
          "base_uri": "https://localhost:8080/"
        },
        "id": "IabzcBBecAFe",
        "outputId": "833eb84c-00c4-4040-d1fc-dad3b26b1594"
      },
      "execution_count": 19,
      "outputs": [
        {
          "output_type": "stream",
          "name": "stdout",
          "text": [
            "Average billing amount by medical condition:\n",
            "Arthritis: 25497.33\n",
            "Asthma: 25635.25\n",
            "Cancer: 25161.79\n",
            "Diabetes: 25638.41\n",
            "Hypertension: 25497.10\n",
            "Obesity: 25805.97\n"
          ]
        }
      ]
    },
    {
      "cell_type": "markdown",
      "source": [
        "**Minimum Billing by Condition**"
      ],
      "metadata": {
        "id": "QEF2Dx7LBKiv"
      }
    },
    {
      "cell_type": "code",
      "source": [
        "min_billing_by_condition = Healthcare.groupby('Medical Condition')['Billing Amount'].min()\n",
        "\n",
        "# Print the minimum billing amount by medical condition\n",
        "print(\"Minimum billing amount by medical condition:\")\n",
        "for condition, min_billing in min_billing_by_condition.items():\n",
        "    print(f\"{condition}: {min_billing:.2f}\")"
      ],
      "metadata": {
        "colab": {
          "base_uri": "https://localhost:8080/"
        },
        "id": "oirdr44NdK4A",
        "outputId": "65f871b2-f0a8-42e5-8ffe-27464581de2f"
      },
      "execution_count": 20,
      "outputs": [
        {
          "output_type": "stream",
          "name": "stdout",
          "text": [
            "Minimum billing amount by medical condition:\n",
            "Arthritis: -1130.00\n",
            "Asthma: -1520.42\n",
            "Cancer: -2008.49\n",
            "Diabetes: -1316.62\n",
            "Hypertension: -1660.01\n",
            "Obesity: -1310.27\n"
          ]
        }
      ]
    },
    {
      "cell_type": "markdown",
      "source": [
        "**Maximum Billing by Condition**"
      ],
      "metadata": {
        "id": "-dciMJbtBSFN"
      }
    },
    {
      "cell_type": "code",
      "source": [
        "max_billing_by_condition = Healthcare.groupby('Medical Condition')['Billing Amount'].max()\n",
        "\n",
        "# Print the maximum billing amount by medical condition\n",
        "print(\"Maximum billing amount by medical condition:\")\n",
        "for condition, max_billing in max_billing_by_condition.items():\n",
        "    print(f\"{condition}: {max_billing:.2f}\")"
      ],
      "metadata": {
        "colab": {
          "base_uri": "https://localhost:8080/"
        },
        "outputId": "4bba339f-0f03-4bf3-c52a-70f30f415716",
        "id": "HsNSv-5rfCE1"
      },
      "execution_count": 23,
      "outputs": [
        {
          "output_type": "stream",
          "name": "stdout",
          "text": [
            "Maximum billing amount by medical condition:\n",
            "Arthritis: 52170.04\n",
            "Asthma: 52181.84\n",
            "Cancer: 52373.03\n",
            "Diabetes: 52211.85\n",
            "Hypertension: 52764.28\n",
            "Obesity: 52024.73\n"
          ]
        }
      ]
    },
    {
      "cell_type": "code",
      "source": [
        "# Convert the 'Date of Admission' and 'Discharge Date' to datetime format\n",
        "Healthcare['Date of Admission'] = pd.to_datetime(Healthcare['Date of Admission'])\n",
        "Healthcare['Discharge Date'] = pd.to_datetime(Healthcare['Discharge Date'])\n",
        "\n",
        "# Calculate the length of stay\n",
        "Healthcare['Length of Stay'] = (Healthcare['Discharge Date'] - Healthcare['Date of Admission']).dt.days\n",
        "\n",
        "# Group by 'Medical Condition' and calculate the average length of stay for each condition\n",
        "average_length_of_stay = Healthcare.groupby('Medical Condition')['Length of Stay'].mean().reset_index()"
      ],
      "metadata": {
        "id": "4q1qD21Rft18"
      },
      "execution_count": 59,
      "outputs": []
    },
    {
      "cell_type": "markdown",
      "source": [
        "**Which doctor have the most number of admissions?**"
      ],
      "metadata": {
        "id": "rKqu_tLnkuHG"
      }
    },
    {
      "cell_type": "code",
      "source": [
        "doctor_admissions = Healthcare['Doctor'].value_counts().idxmax()\n",
        "print(\"Doctor with most admissions: \",doctor_admissions)"
      ],
      "metadata": {
        "colab": {
          "base_uri": "https://localhost:8080/"
        },
        "id": "lJqrMWGDjUV2",
        "outputId": "8e85054b-7d33-4b1d-9a91-57abf85c22e0"
      },
      "execution_count": 28,
      "outputs": [
        {
          "output_type": "stream",
          "name": "stdout",
          "text": [
            "Doctor with most admissions:  Michael Smith\n"
          ]
        }
      ]
    },
    {
      "cell_type": "markdown",
      "source": [
        "**Which doctor have the least number of admissions?**"
      ],
      "metadata": {
        "id": "6sran5mfkem6"
      }
    },
    {
      "cell_type": "code",
      "source": [
        "doctor_admissions = Healthcare['Doctor'].value_counts().idxmin()\n",
        "print(\"Doctor with most admissions: \",doctor_admissions)"
      ],
      "metadata": {
        "colab": {
          "base_uri": "https://localhost:8080/"
        },
        "id": "r8HH3GTkjfns",
        "outputId": "b83ecf20-6dc7-4a3b-a16b-40e824b71ee8"
      },
      "execution_count": 29,
      "outputs": [
        {
          "output_type": "stream",
          "name": "stdout",
          "text": [
            "Doctor with most admissions:  Paul Harding\n"
          ]
        }
      ]
    },
    {
      "cell_type": "markdown",
      "source": [
        "**What is the distribution of patients across different hospitals?**"
      ],
      "metadata": {
        "id": "E-_6knFilehr"
      }
    },
    {
      "cell_type": "code",
      "source": [
        "hospital_distribution = Healthcare['Hospital'].value_counts()\n",
        "print(\"Distribution of patients across hospitals: \", hospital_distribution)"
      ],
      "metadata": {
        "colab": {
          "base_uri": "https://localhost:8080/"
        },
        "id": "E5W2pltklXOu",
        "outputId": "01721878-7b2b-451c-8675-f0e2e523a334"
      },
      "execution_count": 30,
      "outputs": [
        {
          "output_type": "stream",
          "name": "stdout",
          "text": [
            "Distribution of patients across hospitals:  Hospital\n",
            "LLC Smith                      44\n",
            "Ltd Smith                      39\n",
            "Johnson PLC                    38\n",
            "Smith Ltd                      37\n",
            "Smith PLC                      36\n",
            "                               ..\n",
            "and Montoya Flores, Boyer       1\n",
            "Carter and Dunn King,           1\n",
            "Hall, Brown Black and           1\n",
            "Peterson Scott and Thomas,      1\n",
            "Moreno Murphy, Griffith and     1\n",
            "Name: count, Length: 39876, dtype: int64\n"
          ]
        }
      ]
    },
    {
      "cell_type": "markdown",
      "source": [
        "**How many unique hospitals are included in the dataset?**"
      ],
      "metadata": {
        "id": "S5wvRdqOl2Th"
      }
    },
    {
      "cell_type": "code",
      "source": [
        "unique_hospitals = Healthcare['Hospital'].nunique()\n",
        "print(f\"There are {unique_hospitals} unique hospitals included in the dataset.\")"
      ],
      "metadata": {
        "colab": {
          "base_uri": "https://localhost:8080/"
        },
        "id": "X19yJ5NLl7-2",
        "outputId": "e1fdd196-8999-4240-cb0e-c890edb5ee64"
      },
      "execution_count": 31,
      "outputs": [
        {
          "output_type": "stream",
          "name": "stdout",
          "text": [
            "There are 39876 unique hospitals included in the dataset.\n"
          ]
        }
      ]
    },
    {
      "cell_type": "markdown",
      "source": [
        "**Who is the oldest patient in the dataset, and what is their age?**"
      ],
      "metadata": {
        "id": "yIdvMVL2nxLp"
      }
    },
    {
      "cell_type": "code",
      "source": [
        "oldest_patient_age = Healthcare['Age'].max()\n",
        "oldest_patient_name = Healthcare[Healthcare['Age'] == oldest_patient_age]['Name'].iloc[0]\n",
        "print(f\"The oldest patient in the dataset is {oldest_patient_name} with an age of {oldest_patient_age} years.\")"
      ],
      "metadata": {
        "colab": {
          "base_uri": "https://localhost:8080/"
        },
        "id": "33LW4HeVn1cJ",
        "outputId": "206d743b-8b81-480d-8369-eaf7d3d2bfcf"
      },
      "execution_count": 32,
      "outputs": [
        {
          "output_type": "stream",
          "name": "stdout",
          "text": [
            "The oldest patient in the dataset is DAVId NeWTOn with an age of 89 years.\n"
          ]
        }
      ]
    },
    {
      "cell_type": "markdown",
      "source": [
        "**Who is the Youngest patient in the dataset, and what is their age?**"
      ],
      "metadata": {
        "id": "7JR1tOyEoIEC"
      }
    },
    {
      "cell_type": "code",
      "source": [
        "youngest_patient_age = Healthcare['Age'].min()\n",
        "youngest_patient_name = Healthcare[Healthcare['Age'] == youngest_patient_age]['Name'].iloc[0]\n",
        "print(f\"The youngest patient in the dataset is {youngest_patient_name} with an age of {youngest_patient_age} years.\")"
      ],
      "metadata": {
        "colab": {
          "base_uri": "https://localhost:8080/"
        },
        "id": "VQ9hohJAoLua",
        "outputId": "29c97a1d-f847-41c4-ef25-91091dee490f"
      },
      "execution_count": 33,
      "outputs": [
        {
          "output_type": "stream",
          "name": "stdout",
          "text": [
            "The youngest patient in the dataset is jamES BasS phD with an age of 13 years.\n"
          ]
        }
      ]
    },
    {
      "cell_type": "markdown",
      "source": [
        "**What is the most frequently prescribed medication?**"
      ],
      "metadata": {
        "id": "YCI8ZgelpCgK"
      }
    },
    {
      "cell_type": "code",
      "source": [
        "most_prescribed_medication = Healthcare['Medication'].value_counts().idxmax()\n",
        "print(f\"The most frequently prescribed medication is {most_prescribed_medication}.\")"
      ],
      "metadata": {
        "colab": {
          "base_uri": "https://localhost:8080/"
        },
        "id": "3_7rxy0OpHPe",
        "outputId": "6d7992f5-5e23-4dae-9540-646e3fc1b23f"
      },
      "execution_count": 38,
      "outputs": [
        {
          "output_type": "stream",
          "name": "stdout",
          "text": [
            "The most frequently prescribed medication is Lipitor.\n"
          ]
        }
      ]
    },
    {
      "cell_type": "markdown",
      "source": [
        "**What is the most frequently prescribed medication?**"
      ],
      "metadata": {
        "id": "0kGSPhUwpRPz"
      }
    },
    {
      "cell_type": "code",
      "source": [
        "least_prescribed_medication = Healthcare['Medication'].value_counts().idxmin()\n",
        "print(f\"The least prescribed medication is {least_prescribed_medication}.\")"
      ],
      "metadata": {
        "colab": {
          "base_uri": "https://localhost:8080/"
        },
        "id": "GNLrA4HBpU7j",
        "outputId": "540d39d7-877c-4323-c396-d057f8d9ab3c"
      },
      "execution_count": 37,
      "outputs": [
        {
          "output_type": "stream",
          "name": "stdout",
          "text": [
            "The least prescribed medication is Penicillin.\n"
          ]
        }
      ]
    },
    {
      "cell_type": "markdown",
      "source": [
        "**What is the average billing amount for patients?**"
      ],
      "metadata": {
        "id": "WmgeX4i0rtvi"
      }
    },
    {
      "cell_type": "code",
      "source": [
        "average_billing_amount = Healthcare['Billing Amount'].mean()\n",
        "print(f\"The average billing amount for patients is ${average_billing_amount:.2f}.\")"
      ],
      "metadata": {
        "colab": {
          "base_uri": "https://localhost:8080/"
        },
        "id": "t6_OJ5d4r4MK",
        "outputId": "933e7136-bee7-4eff-badb-65b1a7444589"
      },
      "execution_count": 39,
      "outputs": [
        {
          "output_type": "stream",
          "name": "stdout",
          "text": [
            "The average billing amount for patients is $25539.32.\n"
          ]
        }
      ]
    },
    {
      "cell_type": "markdown",
      "source": [
        "**What is the max billing amount for patients**"
      ],
      "metadata": {
        "id": "sfD4cIuMsRV0"
      }
    },
    {
      "cell_type": "code",
      "source": [
        "max_billing_amount = Healthcare['Billing Amount'].max()\n",
        "print(f\"The average billing amount for patients is ${max_billing_amount:.2f}.\")"
      ],
      "metadata": {
        "colab": {
          "base_uri": "https://localhost:8080/"
        },
        "id": "f9H-50LysA5X",
        "outputId": "7618b1a4-dbb0-4bda-943f-d7b92459fc88"
      },
      "execution_count": 41,
      "outputs": [
        {
          "output_type": "stream",
          "name": "stdout",
          "text": [
            "The average billing amount for patients is $52764.28.\n"
          ]
        }
      ]
    },
    {
      "cell_type": "markdown",
      "source": [
        "**What is the min billing amount for patients**"
      ],
      "metadata": {
        "id": "VGYZ4coKsfB8"
      }
    },
    {
      "cell_type": "code",
      "source": [
        "min_billing_amount = Healthcare['Billing Amount'].min()\n",
        "print(f\"The average billing amount for patients is ${min_billing_amount:.2f}.\")"
      ],
      "metadata": {
        "colab": {
          "base_uri": "https://localhost:8080/"
        },
        "id": "dY07jwYKsjYh",
        "outputId": "06cc467d-e17b-47d2-8afb-a2eb83788a9c"
      },
      "execution_count": 42,
      "outputs": [
        {
          "output_type": "stream",
          "name": "stdout",
          "text": [
            "The average billing amount for patients is $-2008.49.\n"
          ]
        }
      ]
    },
    {
      "cell_type": "markdown",
      "source": [
        "**How many male and female patients are there?**"
      ],
      "metadata": {
        "id": "YS8XfryJt4Oa"
      }
    },
    {
      "cell_type": "code",
      "source": [
        "male_patients = Healthcare[Healthcare['Gender'] == 'Male'].shape[0]\n",
        "female_patients = Healthcare[Healthcare['Gender'] == 'Female'].shape[0]\n",
        "print(f\"There are {male_patients} Male patients and {female_patients} Female patients.\")"
      ],
      "metadata": {
        "colab": {
          "base_uri": "https://localhost:8080/"
        },
        "id": "z0V1SyhguPY6",
        "outputId": "fa7fde1d-2c27-4c9c-b31e-ed7d150645e1"
      },
      "execution_count": 43,
      "outputs": [
        {
          "output_type": "stream",
          "name": "stdout",
          "text": [
            "There are 27774 Male patients and 27726 Female patients.\n"
          ]
        }
      ]
    },
    {
      "cell_type": "markdown",
      "source": [
        "**What are the top three most common medical conditions for which patients are admitted?**"
      ],
      "metadata": {
        "id": "RD93_xNOui19"
      }
    },
    {
      "cell_type": "code",
      "source": [
        "top_three_medical_conditions = Healthcare['Medical Condition'].value_counts().head(3)\n",
        "print(\"Top Three Most Common Medical Conditions:\")\n",
        "print(top_three_medical_conditions)"
      ],
      "metadata": {
        "colab": {
          "base_uri": "https://localhost:8080/"
        },
        "id": "tmLadCGEunxl",
        "outputId": "eec4230e-0413-4695-8eb7-3284c967e451"
      },
      "execution_count": 44,
      "outputs": [
        {
          "output_type": "stream",
          "name": "stdout",
          "text": [
            "Top Three Most Common Medical Conditions:\n",
            "Medical Condition\n",
            "Arthritis       9308\n",
            "Diabetes        9304\n",
            "Hypertension    9245\n",
            "Name: count, dtype: int64\n"
          ]
        }
      ]
    },
    {
      "cell_type": "markdown",
      "source": [
        "**What are the top three least common medical conditions for which patients are admitted?**"
      ],
      "metadata": {
        "id": "smZOLJ8q8RVD"
      }
    },
    {
      "cell_type": "code",
      "source": [
        "# Calculate the frequency of each medical condition\n",
        "condition_counts = Healthcare['Medical Condition'].value_counts()\n",
        "\n",
        "# Get the three least common medical conditions\n",
        "least_common_conditions = condition_counts.nsmallest(3)\n",
        "\n",
        "# Display the result\n",
        "print(least_common_conditions)"
      ],
      "metadata": {
        "colab": {
          "base_uri": "https://localhost:8080/"
        },
        "id": "MUU0z-_G8SL9",
        "outputId": "21eee812-4339-4f9d-965b-aa5648b782fb"
      },
      "execution_count": 57,
      "outputs": [
        {
          "output_type": "stream",
          "name": "stdout",
          "text": [
            "Medical Condition\n",
            "Asthma     9185\n",
            "Cancer     9227\n",
            "Obesity    9231\n",
            "Name: count, dtype: int64\n"
          ]
        }
      ]
    },
    {
      "cell_type": "markdown",
      "source": [
        "**Monthly admissions trend**"
      ],
      "metadata": {
        "id": "95s8-AYTvWvG"
      }
    },
    {
      "cell_type": "code",
      "source": [
        "Healthcare['Date of Admission'] = pd.to_datetime(Healthcare['Date of Admission'], errors='coerce')\n",
        "Healthcare['Discharge Date'] = pd.to_datetime(Healthcare['Discharge Date'], errors='coerce')\n",
        "\n",
        "Healthcare['Admission Year'] = Healthcare['Date of Admission'].dt.year\n",
        "Healthcare['Admission Month'] = Healthcare['Date of Admission'].dt.month\n",
        "Healthcare['Admission Day'] = Healthcare['Date of Admission'].dt.day\n",
        "Healthcare['Admission Weekday'] = Healthcare['Date of Admission'].dt.weekday\n",
        "\n",
        "monthly_admissions = Healthcare.groupby(['Admission Year', 'Admission Month']).size().reset_index(name='Counts')\n",
        "\n",
        "monthly_admissions_pivot = monthly_admissions.pivot(index='Admission Month', columns='Admission Year', values='Counts')\n",
        "\n",
        "plt.figure(figsize=(12, 6))\n",
        "monthly_admissions_pivot.plot(kind='line', marker='o')\n",
        "plt.xticks(ticks=range(1, 13), labels=['Jan', 'Feb', 'Mar', 'Apr', 'May', 'Jun', 'Jul', 'Aug', 'Sep', 'Oct', 'Nov', 'Dec'])\n",
        "plt.title('Monthly Admissions Trend')\n",
        "plt.xlabel('Month')\n",
        "plt.ylabel('Number of Admissions')\n",
        "plt.legend(title='Year')\n",
        "plt.grid(True)\n",
        "plt.show()"
      ],
      "metadata": {
        "colab": {
          "base_uri": "https://localhost:8080/",
          "height": 489
        },
        "id": "rzHpV9ZfvfrS",
        "outputId": "77c2c377-3e12-4236-d159-017211976764"
      },
      "execution_count": 45,
      "outputs": [
        {
          "output_type": "display_data",
          "data": {
            "text/plain": [
              "<Figure size 1200x600 with 0 Axes>"
            ]
          },
          "metadata": {}
        },
        {
          "output_type": "display_data",
          "data": {
            "text/plain": [
              "<Figure size 640x480 with 1 Axes>"
            ],
            "image/png": "[encoded data removed]"
          },
          "metadata": {}
        }
      ]
    },
    {
      "cell_type": "markdown",
      "source": [
        "**Weekly admissions trend**"
      ],
      "metadata": {
        "id": "qkcZXz9SxQ3M"
      }
    },
    {
      "cell_type": "code",
      "source": [
        "weekly_admissions = Healthcare.groupby(['Admission Year', 'Admission Weekday']).size().reset_index(name='Counts')\n",
        "weekly_admissions_pivot = weekly_admissions.pivot(index='Admission Weekday', columns='Admission Year', values='Counts')\n",
        "\n",
        "plt.figure(figsize=(12, 6))\n",
        "weekly_admissions_pivot.plot(kind='line', marker='o')\n",
        "plt.title('Weekly Admissions Trend')\n",
        "plt.xlabel('Weekday')\n",
        "plt.ylabel('Number of Admissions')\n",
        "plt.xticks(ticks=range(7), labels=['Mon', 'Tue', 'Wed', 'Thu', 'Fri', 'Sat', 'Sun'])\n",
        "plt.legend(title='Year')\n",
        "plt.grid(True)\n",
        "plt.show()"
      ],
      "metadata": {
        "colab": {
          "base_uri": "https://localhost:8080/",
          "height": 489
        },
        "id": "dXX7EqxXyhm2",
        "outputId": "8e7cbc0c-4896-40fd-f55c-de298c671d5f"
      },
      "execution_count": 46,
      "outputs": [
        {
          "output_type": "display_data",
          "data": {
            "text/plain": [
              "<Figure size 1200x600 with 0 Axes>"
            ]
          },
          "metadata": {}
        },
        {
          "output_type": "display_data",
          "data": {
            "text/plain": [
              "<Figure size 640x480 with 1 Axes>"
            ],
            "image/png": "[encoded data removed]"
          },
          "metadata": {}
        }
      ]
    },
    {
      "cell_type": "markdown",
      "source": [
        "**Age Distribution**"
      ],
      "metadata": {
        "id": "f_MmPH7Wy6Mh"
      }
    },
    {
      "cell_type": "code",
      "source": [
        "plt.figure(figsize=(10, 6))\n",
        "plt.hist(Healthcare['Age'], bins=20, color='orange', edgecolor='black')\n",
        "plt.title('Age Distribution')\n",
        "plt.xlabel('Age')\n",
        "plt.ylabel('Frequency')\n",
        "plt.grid(True)\n",
        "plt.show()"
      ],
      "metadata": {
        "colab": {
          "base_uri": "https://localhost:8080/",
          "height": 564
        },
        "id": "Od3KjaYwzAJx",
        "outputId": "9e985e1e-81df-4981-d287-bd9a7fe72065"
      },
      "execution_count": 49,
      "outputs": [
        {
          "output_type": "display_data",
          "data": {
            "text/plain": [
              "<Figure size 1000x600 with 1 Axes>"
            ],
            "image/png": "[encoded data removed]"
          },
          "metadata": {}
        }
      ]
    },
    {
      "cell_type": "markdown",
      "source": [
        "**Billing Amount**"
      ],
      "metadata": {
        "id": "KYwJdi_CzI2T"
      }
    },
    {
      "cell_type": "code",
      "source": [
        "plt.figure(figsize=(10, 6))\n",
        "plt.boxplot(Healthcare['Billing Amount'], patch_artist=True, boxprops=dict(facecolor='green', color='black'))\n",
        "plt.title('Billing Amount Distribution')\n",
        "plt.ylabel('Billing Amount')\n",
        "plt.grid(True)\n",
        "plt.show()"
      ],
      "metadata": {
        "colab": {
          "base_uri": "https://localhost:8080/",
          "height": 545
        },
        "id": "mucDViHszNr3",
        "outputId": "bd26afd9-9af1-41b3-c1c1-da78578aa670"
      },
      "execution_count": 48,
      "outputs": [
        {
          "output_type": "display_data",
          "data": {
            "text/plain": [
              "<Figure size 1000x600 with 1 Axes>"
            ],
            "image/png": "[encoded data removed]"
          },
          "metadata": {}
        }
      ]
    },
    {
      "cell_type": "markdown",
      "source": [
        "**Monthly Admissions and Discharges**"
      ],
      "metadata": {
        "id": "Fn23K_w6zcHv"
      }
    },
    {
      "cell_type": "code",
      "source": [
        "# Convert the 'Date of Admission' and 'Discharge Date' to datetime format\n",
        "Healthcare['Date of Admission'] = pd.to_datetime(Healthcare['Date of Admission'])\n",
        "Healthcare['Discharge Date'] = pd.to_datetime(Healthcare['Discharge Date'])\n",
        "\n",
        "# Extract the month and year for admissions and discharges\n",
        "Healthcare['Admission Month'] = Healthcare['Date of Admission'].dt.to_period('M')\n",
        "Healthcare['Discharge Month'] = Healthcare['Discharge Date'].dt.to_period('M')\n",
        "\n",
        "# Group by the month and year to count the number of admissions and discharges\n",
        "monthly_admissions = Healthcare.groupby('Admission Month').size()\n",
        "monthly_discharges = Healthcare.groupby('Discharge Month').size()\n",
        "\n",
        "# Convert the PeriodIndex to datetime for plotting\n",
        "monthly_admissions.index = monthly_admissions.index.to_timestamp()\n",
        "monthly_discharges.index = monthly_discharges.index.to_timestamp()\n",
        "\n",
        "plt.figure(figsize=(12, 8))\n",
        "plt.plot(monthly_admissions.index, monthly_admissions, label='Admissions', marker='o')\n",
        "plt.plot(monthly_discharges.index, monthly_discharges, label='Discharges', marker='o')\n",
        "\n",
        "# Set the title and labels\n",
        "plt.title('Monthly Admissions and Discharges', fontsize=16)\n",
        "plt.xlabel('Month and Year', fontsize=14)\n",
        "plt.ylabel('Count', fontsize=14)\n",
        "plt.legend()\n",
        "\n",
        "# Rotate x-axis labels for better readability\n",
        "plt.xticks(rotation=45)\n",
        "\n",
        "# Display the plot\n",
        "plt.tight_layout()\n",
        "plt.show()"
      ],
      "metadata": {
        "colab": {
          "base_uri": "https://localhost:8080/",
          "height": 756
        },
        "id": "8V45skqRzjEE",
        "outputId": "4cdbe5a0-a9d1-4a9c-ff7a-eea0ff0f8817"
      },
      "execution_count": 56,
      "outputs": [
        {
          "output_type": "display_data",
          "data": {
            "text/plain": [
              "<Figure size 1200x800 with 1 Axes>"
            ],
            "image/png": "[encoded data removed]"
          },
          "metadata": {}
        }
      ]
    },
    {
      "cell_type": "markdown",
      "source": [
        "**Medical Condition Distribution By Gender**"
      ],
      "metadata": {
        "id": "hnvDuruF7iuU"
      }
    },
    {
      "cell_type": "code",
      "source": [
        "import seaborn as sns\n",
        "\n",
        "# Plot count plot for Gender vs. Medical Condition\n",
        "plt.figure(figsize=(12, 8))\n",
        "sns.countplot(data=Healthcare, x='Medical Condition', hue='Gender', palette='Set3')\n",
        "plt.title('Medical Condition Distribution by Gender')\n",
        "plt.xlabel('Medical Condition')\n",
        "plt.ylabel('Count')\n",
        "plt.xticks(rotation=45, ha='right')\n",
        "plt.show()"
      ],
      "metadata": {
        "colab": {
          "base_uri": "https://localhost:8080/",
          "height": 780
        },
        "id": "YYDS85wAz8C2",
        "outputId": "be334fed-581e-4292-ed3f-9729b9c4a84b"
      },
      "execution_count": 52,
      "outputs": [
        {
          "output_type": "display_data",
          "data": {
            "text/plain": [
              "<Figure size 1200x800 with 1 Axes>"
            ],
            "image/png": "[encoded data removed]"
          },
          "metadata": {}
        }
      ]
    },
    {
      "cell_type": "markdown",
      "source": [
        "**Age Distribution by Medical Condition**"
      ],
      "metadata": {
        "id": "o_M0S5s63ilM"
      }
    },
    {
      "cell_type": "code",
      "source": [
        "# Create the boxplot for age distribution by medical condition\n",
        "plt.figure(figsize=(12, 8))\n",
        "ax = sns.boxplot(x='Medical Condition', y='Age', data=Healthcare, palette=\"Set3\")\n",
        "\n",
        "# Set the title and labels\n",
        "ax.set_title('Age Distribution by Medical Condition', fontsize=16)\n",
        "ax.set_xlabel('Medical Condition', fontsize=14)\n",
        "ax.set_ylabel('Age', fontsize=14)\n",
        "\n",
        "# Rotate x-axis labels for better readability\n",
        "plt.xticks(rotation=45)\n",
        "\n",
        "# Display the plot\n",
        "plt.tight_layout()\n",
        "plt.show()\n"
      ],
      "metadata": {
        "colab": {
          "base_uri": "https://localhost:8080/",
          "height": 756
        },
        "id": "g6Trlrr53_4r",
        "outputId": "b2b33ab0-eb91-4bd0-ec7f-65a1f8331122"
      },
      "execution_count": 54,
      "outputs": [
        {
          "output_type": "display_data",
          "data": {
            "text/plain": [
              "<Figure size 1200x800 with 1 Axes>"
            ],
            "image/png": "[encoded data removed]"
          },
          "metadata": {}
        }
      ]
    }
  ]
}